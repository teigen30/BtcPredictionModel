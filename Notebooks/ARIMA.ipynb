{
 "cells": [
  {
   "cell_type": "code",
   "execution_count": 4,
   "metadata": {},
   "outputs": [
    {
     "ename": "ModuleNotFoundError",
     "evalue": "No module named 'matplotlib'",
     "output_type": "error",
     "traceback": [
      "\u001b[0;31m---------------------------------------------------------------------------\u001b[0m",
      "\u001b[0;31mModuleNotFoundError\u001b[0m                       Traceback (most recent call last)",
      "\u001b[0;32m/var/folders/g1/hz3nkw1929zcb1n6_hhr5yw40000gn/T/ipykernel_14826/3610919214.py\u001b[0m in \u001b[0;36m<module>\u001b[0;34m\u001b[0m\n\u001b[1;32m      1\u001b[0m \u001b[0;32mimport\u001b[0m \u001b[0mpandas\u001b[0m \u001b[0;32mas\u001b[0m \u001b[0mpd\u001b[0m\u001b[0;34m\u001b[0m\u001b[0;34m\u001b[0m\u001b[0m\n\u001b[1;32m      2\u001b[0m \u001b[0;32mimport\u001b[0m \u001b[0mnumpy\u001b[0m \u001b[0;32mas\u001b[0m \u001b[0mnp\u001b[0m\u001b[0;34m\u001b[0m\u001b[0;34m\u001b[0m\u001b[0m\n\u001b[0;32m----> 3\u001b[0;31m \u001b[0;32mimport\u001b[0m \u001b[0mmatplotlib\u001b[0m\u001b[0;34m.\u001b[0m\u001b[0mpyplot\u001b[0m \u001b[0;32mas\u001b[0m \u001b[0mplt\u001b[0m\u001b[0;34m\u001b[0m\u001b[0;34m\u001b[0m\u001b[0m\n\u001b[0m\u001b[1;32m      4\u001b[0m \u001b[0mget_ipython\u001b[0m\u001b[0;34m(\u001b[0m\u001b[0;34m)\u001b[0m\u001b[0;34m.\u001b[0m\u001b[0mrun_line_magic\u001b[0m\u001b[0;34m(\u001b[0m\u001b[0;34m'matplotlib'\u001b[0m\u001b[0;34m,\u001b[0m \u001b[0;34m'inline'\u001b[0m\u001b[0;34m)\u001b[0m\u001b[0;34m\u001b[0m\u001b[0;34m\u001b[0m\u001b[0m\n",
      "\u001b[0;31mModuleNotFoundError\u001b[0m: No module named 'matplotlib'"
     ]
    }
   ],
   "source": [
    "import pandas as pd\n",
    "import numpy as np\n",
    "import matplotlib.pyplot as plt\n",
    "%matplotlib inline"
   ]
  },
  {
   "cell_type": "code",
   "execution_count": 5,
   "metadata": {},
   "outputs": [],
   "source": [
    "all_btc = pd.read_csv('../Data/BTC-USD.csv')"
   ]
  },
  {
   "cell_type": "code",
   "execution_count": 6,
   "metadata": {},
   "outputs": [],
   "source": [
    "all_btc.Date = pd.to_datetime(all_btc.Date, format='%Y-%m-%d')\n",
    "all_btc = all_btc.set_index('Date')"
   ]
  },
  {
   "cell_type": "code",
   "execution_count": 7,
   "metadata": {
    "scrolled": true
   },
   "outputs": [
    {
     "data": {
      "text/html": [
       "<div>\n",
       "<style scoped>\n",
       "    .dataframe tbody tr th:only-of-type {\n",
       "        vertical-align: middle;\n",
       "    }\n",
       "\n",
       "    .dataframe tbody tr th {\n",
       "        vertical-align: top;\n",
       "    }\n",
       "\n",
       "    .dataframe thead th {\n",
       "        text-align: right;\n",
       "    }\n",
       "</style>\n",
       "<table border=\"1\" class=\"dataframe\">\n",
       "  <thead>\n",
       "    <tr style=\"text-align: right;\">\n",
       "      <th></th>\n",
       "      <th>Open</th>\n",
       "      <th>High</th>\n",
       "      <th>Low</th>\n",
       "      <th>Close</th>\n",
       "      <th>Adj Close</th>\n",
       "      <th>Volume</th>\n",
       "    </tr>\n",
       "    <tr>\n",
       "      <th>Date</th>\n",
       "      <th></th>\n",
       "      <th></th>\n",
       "      <th></th>\n",
       "      <th></th>\n",
       "      <th></th>\n",
       "      <th></th>\n",
       "    </tr>\n",
       "  </thead>\n",
       "  <tbody>\n",
       "    <tr>\n",
       "      <th>2015-11-21</th>\n",
       "      <td>322.092010</td>\n",
       "      <td>328.158997</td>\n",
       "      <td>319.595001</td>\n",
       "      <td>326.927002</td>\n",
       "      <td>326.927002</td>\n",
       "      <td>2.820050e+07</td>\n",
       "    </tr>\n",
       "    <tr>\n",
       "      <th>2015-11-22</th>\n",
       "      <td>326.975006</td>\n",
       "      <td>327.010010</td>\n",
       "      <td>321.259003</td>\n",
       "      <td>324.536011</td>\n",
       "      <td>324.536011</td>\n",
       "      <td>2.343940e+07</td>\n",
       "    </tr>\n",
       "    <tr>\n",
       "      <th>2015-11-23</th>\n",
       "      <td>324.350006</td>\n",
       "      <td>325.118011</td>\n",
       "      <td>321.290009</td>\n",
       "      <td>323.045990</td>\n",
       "      <td>323.045990</td>\n",
       "      <td>2.747890e+07</td>\n",
       "    </tr>\n",
       "    <tr>\n",
       "      <th>2015-11-24</th>\n",
       "      <td>323.014008</td>\n",
       "      <td>323.058014</td>\n",
       "      <td>318.118011</td>\n",
       "      <td>320.045990</td>\n",
       "      <td>320.045990</td>\n",
       "      <td>2.936260e+07</td>\n",
       "    </tr>\n",
       "    <tr>\n",
       "      <th>2015-11-25</th>\n",
       "      <td>320.045013</td>\n",
       "      <td>329.134003</td>\n",
       "      <td>316.769989</td>\n",
       "      <td>328.205994</td>\n",
       "      <td>328.205994</td>\n",
       "      <td>4.166690e+07</td>\n",
       "    </tr>\n",
       "    <tr>\n",
       "      <th>...</th>\n",
       "      <td>...</td>\n",
       "      <td>...</td>\n",
       "      <td>...</td>\n",
       "      <td>...</td>\n",
       "      <td>...</td>\n",
       "      <td>...</td>\n",
       "    </tr>\n",
       "    <tr>\n",
       "      <th>2021-11-17</th>\n",
       "      <td>60139.621094</td>\n",
       "      <td>60823.609375</td>\n",
       "      <td>58515.410156</td>\n",
       "      <td>60368.011719</td>\n",
       "      <td>60368.011719</td>\n",
       "      <td>3.917839e+10</td>\n",
       "    </tr>\n",
       "    <tr>\n",
       "      <th>2021-11-18</th>\n",
       "      <td>60360.136719</td>\n",
       "      <td>60948.500000</td>\n",
       "      <td>56550.792969</td>\n",
       "      <td>56942.136719</td>\n",
       "      <td>56942.136719</td>\n",
       "      <td>4.138834e+10</td>\n",
       "    </tr>\n",
       "    <tr>\n",
       "      <th>2021-11-19</th>\n",
       "      <td>56896.128906</td>\n",
       "      <td>58351.113281</td>\n",
       "      <td>55705.179688</td>\n",
       "      <td>58119.578125</td>\n",
       "      <td>58119.578125</td>\n",
       "      <td>3.870241e+10</td>\n",
       "    </tr>\n",
       "    <tr>\n",
       "      <th>2021-11-20</th>\n",
       "      <td>58115.082031</td>\n",
       "      <td>59859.878906</td>\n",
       "      <td>57469.726563</td>\n",
       "      <td>59697.195313</td>\n",
       "      <td>59697.195313</td>\n",
       "      <td>3.062426e+10</td>\n",
       "    </tr>\n",
       "    <tr>\n",
       "      <th>2021-11-21</th>\n",
       "      <td>59689.230469</td>\n",
       "      <td>59897.675781</td>\n",
       "      <td>58641.667969</td>\n",
       "      <td>59558.062500</td>\n",
       "      <td>59558.062500</td>\n",
       "      <td>2.550275e+10</td>\n",
       "    </tr>\n",
       "  </tbody>\n",
       "</table>\n",
       "<p>2193 rows × 6 columns</p>\n",
       "</div>"
      ],
      "text/plain": [
       "                    Open          High           Low         Close  \\\n",
       "Date                                                                 \n",
       "2015-11-21    322.092010    328.158997    319.595001    326.927002   \n",
       "2015-11-22    326.975006    327.010010    321.259003    324.536011   \n",
       "2015-11-23    324.350006    325.118011    321.290009    323.045990   \n",
       "2015-11-24    323.014008    323.058014    318.118011    320.045990   \n",
       "2015-11-25    320.045013    329.134003    316.769989    328.205994   \n",
       "...                  ...           ...           ...           ...   \n",
       "2021-11-17  60139.621094  60823.609375  58515.410156  60368.011719   \n",
       "2021-11-18  60360.136719  60948.500000  56550.792969  56942.136719   \n",
       "2021-11-19  56896.128906  58351.113281  55705.179688  58119.578125   \n",
       "2021-11-20  58115.082031  59859.878906  57469.726563  59697.195313   \n",
       "2021-11-21  59689.230469  59897.675781  58641.667969  59558.062500   \n",
       "\n",
       "               Adj Close        Volume  \n",
       "Date                                    \n",
       "2015-11-21    326.927002  2.820050e+07  \n",
       "2015-11-22    324.536011  2.343940e+07  \n",
       "2015-11-23    323.045990  2.747890e+07  \n",
       "2015-11-24    320.045990  2.936260e+07  \n",
       "2015-11-25    328.205994  4.166690e+07  \n",
       "...                  ...           ...  \n",
       "2021-11-17  60368.011719  3.917839e+10  \n",
       "2021-11-18  56942.136719  4.138834e+10  \n",
       "2021-11-19  58119.578125  3.870241e+10  \n",
       "2021-11-20  59697.195313  3.062426e+10  \n",
       "2021-11-21  59558.062500  2.550275e+10  \n",
       "\n",
       "[2193 rows x 6 columns]"
      ]
     },
     "execution_count": 7,
     "metadata": {},
     "output_type": "execute_result"
    }
   ],
   "source": [
    "all_btc"
   ]
  },
  {
   "cell_type": "code",
   "execution_count": 8,
   "metadata": {},
   "outputs": [
    {
     "ename": "NameError",
     "evalue": "name 'plt' is not defined",
     "output_type": "error",
     "traceback": [
      "\u001b[0;31m---------------------------------------------------------------------------\u001b[0m",
      "\u001b[0;31mNameError\u001b[0m                                 Traceback (most recent call last)",
      "\u001b[0;32m/var/folders/g1/hz3nkw1929zcb1n6_hhr5yw40000gn/T/ipykernel_14826/176753692.py\u001b[0m in \u001b[0;36m<module>\u001b[0;34m\u001b[0m\n\u001b[0;32m----> 1\u001b[0;31m \u001b[0mplt\u001b[0m\u001b[0;34m.\u001b[0m\u001b[0mplot\u001b[0m\u001b[0;34m(\u001b[0m\u001b[0mall_btc\u001b[0m\u001b[0;34m)\u001b[0m\u001b[0;34m\u001b[0m\u001b[0;34m\u001b[0m\u001b[0m\n\u001b[0m",
      "\u001b[0;31mNameError\u001b[0m: name 'plt' is not defined"
     ]
    }
   ],
   "source": [
    "plt.plot(all_btc)"
   ]
  },
  {
   "cell_type": "code",
   "execution_count": 9,
   "metadata": {},
   "outputs": [],
   "source": [
    "#Creating a percent change column for the adjusted close data, as this will likely create\n",
    "#more stationary data.\n",
    "\n",
    "all_btc['Percent change'] = all_btc['Adj Close'].pct_change()"
   ]
  },
  {
   "cell_type": "code",
   "execution_count": 10,
   "metadata": {},
   "outputs": [
    {
     "data": {
      "text/plain": [
       "4"
      ]
     },
     "execution_count": 10,
     "metadata": {},
     "output_type": "execute_result"
    }
   ],
   "source": [
    "#Exploring null values in the adjusted close column in the dataset.\n",
    "\n",
    "all_btc['Adj Close'].isnull().sum()"
   ]
  },
  {
   "cell_type": "code",
   "execution_count": 11,
   "metadata": {},
   "outputs": [
    {
     "data": {
      "text/html": [
       "<div>\n",
       "<style scoped>\n",
       "    .dataframe tbody tr th:only-of-type {\n",
       "        vertical-align: middle;\n",
       "    }\n",
       "\n",
       "    .dataframe tbody tr th {\n",
       "        vertical-align: top;\n",
       "    }\n",
       "\n",
       "    .dataframe thead th {\n",
       "        text-align: right;\n",
       "    }\n",
       "</style>\n",
       "<table border=\"1\" class=\"dataframe\">\n",
       "  <thead>\n",
       "    <tr style=\"text-align: right;\">\n",
       "      <th></th>\n",
       "      <th>Open</th>\n",
       "      <th>High</th>\n",
       "      <th>Low</th>\n",
       "      <th>Close</th>\n",
       "      <th>Adj Close</th>\n",
       "      <th>Volume</th>\n",
       "      <th>Percent change</th>\n",
       "    </tr>\n",
       "    <tr>\n",
       "      <th>Date</th>\n",
       "      <th></th>\n",
       "      <th></th>\n",
       "      <th></th>\n",
       "      <th></th>\n",
       "      <th></th>\n",
       "      <th></th>\n",
       "      <th></th>\n",
       "    </tr>\n",
       "  </thead>\n",
       "  <tbody>\n",
       "    <tr>\n",
       "      <th>2015-11-21</th>\n",
       "      <td>322.092010</td>\n",
       "      <td>328.158997</td>\n",
       "      <td>319.595001</td>\n",
       "      <td>326.927002</td>\n",
       "      <td>326.927002</td>\n",
       "      <td>2.820050e+07</td>\n",
       "      <td>NaN</td>\n",
       "    </tr>\n",
       "    <tr>\n",
       "      <th>2015-11-22</th>\n",
       "      <td>326.975006</td>\n",
       "      <td>327.010010</td>\n",
       "      <td>321.259003</td>\n",
       "      <td>324.536011</td>\n",
       "      <td>324.536011</td>\n",
       "      <td>2.343940e+07</td>\n",
       "      <td>-0.007314</td>\n",
       "    </tr>\n",
       "    <tr>\n",
       "      <th>2015-11-23</th>\n",
       "      <td>324.350006</td>\n",
       "      <td>325.118011</td>\n",
       "      <td>321.290009</td>\n",
       "      <td>323.045990</td>\n",
       "      <td>323.045990</td>\n",
       "      <td>2.747890e+07</td>\n",
       "      <td>-0.004591</td>\n",
       "    </tr>\n",
       "    <tr>\n",
       "      <th>2015-11-24</th>\n",
       "      <td>323.014008</td>\n",
       "      <td>323.058014</td>\n",
       "      <td>318.118011</td>\n",
       "      <td>320.045990</td>\n",
       "      <td>320.045990</td>\n",
       "      <td>2.936260e+07</td>\n",
       "      <td>-0.009287</td>\n",
       "    </tr>\n",
       "    <tr>\n",
       "      <th>2015-11-25</th>\n",
       "      <td>320.045013</td>\n",
       "      <td>329.134003</td>\n",
       "      <td>316.769989</td>\n",
       "      <td>328.205994</td>\n",
       "      <td>328.205994</td>\n",
       "      <td>4.166690e+07</td>\n",
       "      <td>0.025496</td>\n",
       "    </tr>\n",
       "    <tr>\n",
       "      <th>...</th>\n",
       "      <td>...</td>\n",
       "      <td>...</td>\n",
       "      <td>...</td>\n",
       "      <td>...</td>\n",
       "      <td>...</td>\n",
       "      <td>...</td>\n",
       "      <td>...</td>\n",
       "    </tr>\n",
       "    <tr>\n",
       "      <th>2021-11-17</th>\n",
       "      <td>60139.621094</td>\n",
       "      <td>60823.609375</td>\n",
       "      <td>58515.410156</td>\n",
       "      <td>60368.011719</td>\n",
       "      <td>60368.011719</td>\n",
       "      <td>3.917839e+10</td>\n",
       "      <td>0.003437</td>\n",
       "    </tr>\n",
       "    <tr>\n",
       "      <th>2021-11-18</th>\n",
       "      <td>60360.136719</td>\n",
       "      <td>60948.500000</td>\n",
       "      <td>56550.792969</td>\n",
       "      <td>56942.136719</td>\n",
       "      <td>56942.136719</td>\n",
       "      <td>4.138834e+10</td>\n",
       "      <td>-0.056750</td>\n",
       "    </tr>\n",
       "    <tr>\n",
       "      <th>2021-11-19</th>\n",
       "      <td>56896.128906</td>\n",
       "      <td>58351.113281</td>\n",
       "      <td>55705.179688</td>\n",
       "      <td>58119.578125</td>\n",
       "      <td>58119.578125</td>\n",
       "      <td>3.870241e+10</td>\n",
       "      <td>0.020678</td>\n",
       "    </tr>\n",
       "    <tr>\n",
       "      <th>2021-11-20</th>\n",
       "      <td>58115.082031</td>\n",
       "      <td>59859.878906</td>\n",
       "      <td>57469.726563</td>\n",
       "      <td>59697.195313</td>\n",
       "      <td>59697.195313</td>\n",
       "      <td>3.062426e+10</td>\n",
       "      <td>0.027144</td>\n",
       "    </tr>\n",
       "    <tr>\n",
       "      <th>2021-11-21</th>\n",
       "      <td>59689.230469</td>\n",
       "      <td>59897.675781</td>\n",
       "      <td>58641.667969</td>\n",
       "      <td>59558.062500</td>\n",
       "      <td>59558.062500</td>\n",
       "      <td>2.550275e+10</td>\n",
       "      <td>-0.002331</td>\n",
       "    </tr>\n",
       "  </tbody>\n",
       "</table>\n",
       "<p>2193 rows × 7 columns</p>\n",
       "</div>"
      ],
      "text/plain": [
       "                    Open          High           Low         Close  \\\n",
       "Date                                                                 \n",
       "2015-11-21    322.092010    328.158997    319.595001    326.927002   \n",
       "2015-11-22    326.975006    327.010010    321.259003    324.536011   \n",
       "2015-11-23    324.350006    325.118011    321.290009    323.045990   \n",
       "2015-11-24    323.014008    323.058014    318.118011    320.045990   \n",
       "2015-11-25    320.045013    329.134003    316.769989    328.205994   \n",
       "...                  ...           ...           ...           ...   \n",
       "2021-11-17  60139.621094  60823.609375  58515.410156  60368.011719   \n",
       "2021-11-18  60360.136719  60948.500000  56550.792969  56942.136719   \n",
       "2021-11-19  56896.128906  58351.113281  55705.179688  58119.578125   \n",
       "2021-11-20  58115.082031  59859.878906  57469.726563  59697.195313   \n",
       "2021-11-21  59689.230469  59897.675781  58641.667969  59558.062500   \n",
       "\n",
       "               Adj Close        Volume  Percent change  \n",
       "Date                                                    \n",
       "2015-11-21    326.927002  2.820050e+07             NaN  \n",
       "2015-11-22    324.536011  2.343940e+07       -0.007314  \n",
       "2015-11-23    323.045990  2.747890e+07       -0.004591  \n",
       "2015-11-24    320.045990  2.936260e+07       -0.009287  \n",
       "2015-11-25    328.205994  4.166690e+07        0.025496  \n",
       "...                  ...           ...             ...  \n",
       "2021-11-17  60368.011719  3.917839e+10        0.003437  \n",
       "2021-11-18  56942.136719  4.138834e+10       -0.056750  \n",
       "2021-11-19  58119.578125  3.870241e+10        0.020678  \n",
       "2021-11-20  59697.195313  3.062426e+10        0.027144  \n",
       "2021-11-21  59558.062500  2.550275e+10       -0.002331  \n",
       "\n",
       "[2193 rows x 7 columns]"
      ]
     },
     "execution_count": 11,
     "metadata": {},
     "output_type": "execute_result"
    }
   ],
   "source": [
    "#Filling null values in the dataframe using their most previous values.\n",
    "\n",
    "all_btc = all_btc.fillna(method='pad')\n",
    "all_btc"
   ]
  },
  {
   "cell_type": "code",
   "execution_count": 12,
   "metadata": {},
   "outputs": [
    {
     "ename": "ModuleNotFoundError",
     "evalue": "No module named 'statsmodels'",
     "output_type": "error",
     "traceback": [
      "\u001b[0;31m---------------------------------------------------------------------------\u001b[0m",
      "\u001b[0;31mModuleNotFoundError\u001b[0m                       Traceback (most recent call last)",
      "\u001b[0;32m/var/folders/g1/hz3nkw1929zcb1n6_hhr5yw40000gn/T/ipykernel_14826/719242976.py\u001b[0m in \u001b[0;36m<module>\u001b[0;34m\u001b[0m\n\u001b[1;32m      3\u001b[0m \u001b[0;31m#The alternative: The data is stationary\u001b[0m\u001b[0;34m\u001b[0m\u001b[0;34m\u001b[0m\u001b[0m\n\u001b[1;32m      4\u001b[0m \u001b[0;34m\u001b[0m\u001b[0m\n\u001b[0;32m----> 5\u001b[0;31m \u001b[0;32mfrom\u001b[0m \u001b[0mstatsmodels\u001b[0m\u001b[0;34m.\u001b[0m\u001b[0mtsa\u001b[0m\u001b[0;34m.\u001b[0m\u001b[0mstattools\u001b[0m \u001b[0;32mimport\u001b[0m \u001b[0madfuller\u001b[0m\u001b[0;34m\u001b[0m\u001b[0;34m\u001b[0m\u001b[0m\n\u001b[0m\u001b[1;32m      6\u001b[0m \u001b[0maf_close\u001b[0m \u001b[0;34m=\u001b[0m \u001b[0madfuller\u001b[0m\u001b[0;34m(\u001b[0m\u001b[0mall_btc\u001b[0m\u001b[0;34m[\u001b[0m\u001b[0;34m'Adj Close'\u001b[0m\u001b[0;34m]\u001b[0m\u001b[0;34m)\u001b[0m\u001b[0;34m\u001b[0m\u001b[0;34m\u001b[0m\u001b[0m\n\u001b[1;32m      7\u001b[0m \u001b[0maf_pct\u001b[0m \u001b[0;34m=\u001b[0m \u001b[0madfuller\u001b[0m\u001b[0;34m(\u001b[0m\u001b[0mall_btc\u001b[0m\u001b[0;34m[\u001b[0m\u001b[0;34m'Percent change'\u001b[0m\u001b[0;34m]\u001b[0m\u001b[0;34m[\u001b[0m\u001b[0;36m1\u001b[0m\u001b[0;34m:\u001b[0m\u001b[0;36m2193\u001b[0m\u001b[0;34m]\u001b[0m\u001b[0;34m)\u001b[0m\u001b[0;34m\u001b[0m\u001b[0;34m\u001b[0m\u001b[0m\n",
      "\u001b[0;31mModuleNotFoundError\u001b[0m: No module named 'statsmodels'"
     ]
    }
   ],
   "source": [
    "#importing and running adfuller test on the adjusted close and percent change columns.\n",
    "#The null hypothesis: The data is non stationary\n",
    "#The alternative: The data is stationary\n",
    "\n",
    "caf_close = adfuller(all_btc['Adj Close'])\n",
    "af_pct = adfuller(all_btc['Percent change'][1:2193])"
   ]
  },
  {
   "cell_type": "code",
   "execution_count": 13,
   "metadata": {},
   "outputs": [
    {
     "ename": "NameError",
     "evalue": "name 'af_close' is not defined",
     "output_type": "error",
     "traceback": [
      "\u001b[0;31m---------------------------------------------------------------------------\u001b[0m",
      "\u001b[0;31mNameError\u001b[0m                                 Traceback (most recent call last)",
      "\u001b[0;32m/var/folders/g1/hz3nkw1929zcb1n6_hhr5yw40000gn/T/ipykernel_14826/3133973283.py\u001b[0m in \u001b[0;36m<module>\u001b[0;34m\u001b[0m\n\u001b[1;32m      2\u001b[0m \u001b[0;31m#the p value (0.9837) is much larger than 0.05.\u001b[0m\u001b[0;34m\u001b[0m\u001b[0;34m\u001b[0m\u001b[0m\n\u001b[1;32m      3\u001b[0m \u001b[0;34m\u001b[0m\u001b[0m\n\u001b[0;32m----> 4\u001b[0;31m \u001b[0maf_close\u001b[0m\u001b[0;34m\u001b[0m\u001b[0;34m\u001b[0m\u001b[0m\n\u001b[0m",
      "\u001b[0;31mNameError\u001b[0m: name 'af_close' is not defined"
     ]
    }
   ],
   "source": [
    "#adfuller test for the adjusted close column shows that it is very non-stationary because\n",
    "#the p value (0.9837) is much larger than 0.05.\n",
    "\n",
    "af_close"
   ]
  },
  {
   "cell_type": "code",
   "execution_count": 14,
   "metadata": {},
   "outputs": [
    {
     "ename": "NameError",
     "evalue": "name 'af_pct' is not defined",
     "output_type": "error",
     "traceback": [
      "\u001b[0;31m---------------------------------------------------------------------------\u001b[0m",
      "\u001b[0;31mNameError\u001b[0m                                 Traceback (most recent call last)",
      "\u001b[0;32m/var/folders/g1/hz3nkw1929zcb1n6_hhr5yw40000gn/T/ipykernel_14826/3820069933.py\u001b[0m in \u001b[0;36m<module>\u001b[0;34m\u001b[0m\n\u001b[1;32m      2\u001b[0m \u001b[0;31m#the p value (0.0) is much smaller than 0.05.\u001b[0m\u001b[0;34m\u001b[0m\u001b[0;34m\u001b[0m\u001b[0m\n\u001b[1;32m      3\u001b[0m \u001b[0;34m\u001b[0m\u001b[0m\n\u001b[0;32m----> 4\u001b[0;31m \u001b[0maf_pct\u001b[0m\u001b[0;34m\u001b[0m\u001b[0;34m\u001b[0m\u001b[0m\n\u001b[0m",
      "\u001b[0;31mNameError\u001b[0m: name 'af_pct' is not defined"
     ]
    }
   ],
   "source": [
    "#adfuller test for the percent change column shows that it is very stationary because\n",
    "#the p value (0.0) is much smaller than 0.05.\n",
    "\n",
    "af_pct"
   ]
  },
  {
   "cell_type": "code",
   "execution_count": 15,
   "metadata": {},
   "outputs": [
    {
     "ename": "ModuleNotFoundError",
     "evalue": "No module named 'statsmodels'",
     "output_type": "error",
     "traceback": [
      "\u001b[0;31m---------------------------------------------------------------------------\u001b[0m",
      "\u001b[0;31mModuleNotFoundError\u001b[0m                       Traceback (most recent call last)",
      "\u001b[0;32m/var/folders/g1/hz3nkw1929zcb1n6_hhr5yw40000gn/T/ipykernel_14826/4006847607.py\u001b[0m in \u001b[0;36m<module>\u001b[0;34m\u001b[0m\n\u001b[0;32m----> 1\u001b[0;31m \u001b[0;32mfrom\u001b[0m \u001b[0mstatsmodels\u001b[0m\u001b[0;34m.\u001b[0m\u001b[0mgraphics\u001b[0m\u001b[0;34m.\u001b[0m\u001b[0mtsaplots\u001b[0m \u001b[0;32mimport\u001b[0m \u001b[0mplot_acf\u001b[0m\u001b[0;34m,\u001b[0m \u001b[0mplot_pacf\u001b[0m\u001b[0;34m\u001b[0m\u001b[0;34m\u001b[0m\u001b[0m\n\u001b[0m\u001b[1;32m      2\u001b[0m \u001b[0;32mimport\u001b[0m \u001b[0mstatsmodels\u001b[0m\u001b[0;34m.\u001b[0m\u001b[0mapi\u001b[0m \u001b[0;32mas\u001b[0m \u001b[0msm\u001b[0m\u001b[0;34m\u001b[0m\u001b[0;34m\u001b[0m\u001b[0m\n\u001b[1;32m      3\u001b[0m \u001b[0;31m#fig = plt.figure(figsize=(12,8))\u001b[0m\u001b[0;34m\u001b[0m\u001b[0;34m\u001b[0m\u001b[0m\n\u001b[1;32m      4\u001b[0m \u001b[0;31m#ax1 = fig.add_subplot\u001b[0m\u001b[0;34m\u001b[0m\u001b[0;34m\u001b[0m\u001b[0m\n\u001b[1;32m      5\u001b[0m \u001b[0;31m#fig = plot_acf(df)\u001b[0m\u001b[0;34m\u001b[0m\u001b[0;34m\u001b[0m\u001b[0m\n",
      "\u001b[0;31mModuleNotFoundError\u001b[0m: No module named 'statsmodels'"
     ]
    }
   ],
   "source": [
    "from statsmodels.graphics.tsaplots import plot_acf, plot_pacf\n",
    "import statsmodels.api as sm\n",
    "#fig = plt.figure(figsize=(12,8))\n",
    "#ax1 = fig.add_subplot\n",
    "#fig = plot_acf(df)"
   ]
  },
  {
   "cell_type": "code",
   "execution_count": 12,
   "metadata": {},
   "outputs": [
    {
     "data": {
      "image/png": "[encoded data removed]",
      "text/plain": [
       "<Figure size 432x288 with 1 Axes>"
      ]
     },
     "execution_count": 12,
     "metadata": {},
     "output_type": "execute_result"
    },
    {
     "data": {
      "image/png": "[encoded data removed]",
      "text/plain": [
       "<Figure size 432x288 with 1 Axes>"
      ]
     },
     "metadata": {
      "needs_background": "light"
     },
     "output_type": "display_data"
    }
   ],
   "source": [
    "c"
   ]
  },
  {
   "cell_type": "code",
   "execution_count": 13,
   "metadata": {},
   "outputs": [
    {
     "name": "stderr",
     "output_type": "stream",
     "text": [
      "/Users/Teigen/opt/anaconda3/envs/learn-env/lib/python3.8/site-packages/statsmodels/graphics/tsaplots.py:348: FutureWarning: The default method 'yw' can produce PACF values outside of the [-1,1] interval. After 0.13, the default will change tounadjusted Yule-Walker ('ywm'). You can use this method now by setting method='ywm'.\n",
      "  warnings.warn(\n"
     ]
    },
    {
     "data": {
      "image/png": "[encoded data removed]",
      "text/plain": [
       "<Figure size 432x288 with 1 Axes>"
      ]
     },
     "execution_count": 13,
     "metadata": {},
     "output_type": "execute_result"
    },
    {
     "data": {
      "image/png": "[encoded data removed]",
      "text/plain": [
       "<Figure size 432x288 with 1 Axes>"
      ]
     },
     "metadata": {
      "needs_background": "light"
     },
     "output_type": "display_data"
    }
   ],
   "source": [
    "plot_pacf(all_btc['Percent change'].dropna(), lags=40)"
   ]
  },
  {
   "cell_type": "code",
   "execution_count": 16,
   "metadata": {},
   "outputs": [
    {
     "ename": "ModuleNotFoundError",
     "evalue": "No module named 'statsmodels'",
     "output_type": "error",
     "traceback": [
      "\u001b[0;31m---------------------------------------------------------------------------\u001b[0m",
      "\u001b[0;31mModuleNotFoundError\u001b[0m                       Traceback (most recent call last)",
      "\u001b[0;32m/var/folders/g1/hz3nkw1929zcb1n6_hhr5yw40000gn/T/ipykernel_14826/3715430700.py\u001b[0m in \u001b[0;36m<module>\u001b[0;34m\u001b[0m\n\u001b[0;32m----> 1\u001b[0;31m \u001b[0;32mfrom\u001b[0m \u001b[0mstatsmodels\u001b[0m\u001b[0;34m.\u001b[0m\u001b[0mtsa\u001b[0m\u001b[0;34m.\u001b[0m\u001b[0marima\u001b[0m\u001b[0;34m.\u001b[0m\u001b[0mmodel\u001b[0m \u001b[0;32mimport\u001b[0m \u001b[0mARIMA\u001b[0m\u001b[0;34m\u001b[0m\u001b[0;34m\u001b[0m\u001b[0m\n\u001b[0m\u001b[1;32m      2\u001b[0m \u001b[0mfirst_model\u001b[0m \u001b[0;34m=\u001b[0m \u001b[0mARIMA\u001b[0m\u001b[0;34m(\u001b[0m\u001b[0mall_btc\u001b[0m\u001b[0;34m[\u001b[0m\u001b[0;34m'Percent change'\u001b[0m\u001b[0;34m]\u001b[0m\u001b[0;34m,\u001b[0m \u001b[0morder\u001b[0m\u001b[0;34m=\u001b[0m\u001b[0;34m(\u001b[0m\u001b[0;36m1\u001b[0m\u001b[0;34m,\u001b[0m\u001b[0;36m1\u001b[0m\u001b[0;34m,\u001b[0m\u001b[0;36m1\u001b[0m\u001b[0;34m)\u001b[0m\u001b[0;34m)\u001b[0m\u001b[0;34m\u001b[0m\u001b[0;34m\u001b[0m\u001b[0m\n\u001b[1;32m      3\u001b[0m \u001b[0mfirst_model_fit\u001b[0m \u001b[0;34m=\u001b[0m \u001b[0mfirst_model\u001b[0m\u001b[0;34m.\u001b[0m\u001b[0mfit\u001b[0m\u001b[0;34m(\u001b[0m\u001b[0;34m)\u001b[0m\u001b[0;34m\u001b[0m\u001b[0;34m\u001b[0m\u001b[0m\n\u001b[1;32m      4\u001b[0m \u001b[0mfirst_model_fit\u001b[0m\u001b[0;34m.\u001b[0m\u001b[0msummary\u001b[0m\u001b[0;34m(\u001b[0m\u001b[0;34m)\u001b[0m\u001b[0;34m\u001b[0m\u001b[0;34m\u001b[0m\u001b[0m\n",
      "\u001b[0;31mModuleNotFoundError\u001b[0m: No module named 'statsmodels'"
     ]
    }
   ],
   "source": [
    "from statsmodels.tsa.arima.model import ARIMA\n",
    "first_model = ARIMA(all_btc['Percent change'], order=(1,1,1))\n",
    "first_model_fit = first_model.fit()\n",
    "first_model_fit.summary()"
   ]
  },
  {
   "cell_type": "code",
   "execution_count": 15,
   "metadata": {},
   "outputs": [
    {
     "data": {
      "text/plain": [
       "2021-11-09    0.001412\n",
       "2021-11-10    0.003294\n",
       "2021-11-11    0.003240\n",
       "2021-11-12    0.003242\n",
       "2021-11-13    0.003242\n",
       "2021-11-14    0.003242\n",
       "2021-11-15    0.003242\n",
       "2021-11-16    0.003242\n",
       "2021-11-17    0.003242\n",
       "2021-11-18    0.003242\n",
       "2021-11-19    0.003242\n",
       "2021-11-20    0.003242\n",
       "2021-11-21    0.003242\n",
       "2021-11-22    0.003242\n",
       "2021-11-23    0.003242\n",
       "2021-11-24    0.003242\n",
       "2021-11-25    0.003242\n",
       "2021-11-26    0.003242\n",
       "2021-11-27    0.003242\n",
       "2021-11-28    0.003242\n",
       "2021-11-29    0.003242\n",
       "Freq: D, Name: predicted_mean, dtype: float64"
      ]
     },
     "execution_count": 15,
     "metadata": {},
     "output_type": "execute_result"
    }
   ],
   "source": [
    "predictions = first_model_fit.predict(start=2180, end=2200, dynamic=True)\n",
    "predictions"
   ]
  },
  {
   "cell_type": "code",
   "execution_count": 16,
   "metadata": {},
   "outputs": [
    {
     "data": {
      "text/html": [
       "<div>\n",
       "<style scoped>\n",
       "    .dataframe tbody tr th:only-of-type {\n",
       "        vertical-align: middle;\n",
       "    }\n",
       "\n",
       "    .dataframe tbody tr th {\n",
       "        vertical-align: top;\n",
       "    }\n",
       "\n",
       "    .dataframe thead th {\n",
       "        text-align: right;\n",
       "    }\n",
       "</style>\n",
       "<table border=\"1\" class=\"dataframe\">\n",
       "  <thead>\n",
       "    <tr style=\"text-align: right;\">\n",
       "      <th></th>\n",
       "      <th>Open</th>\n",
       "      <th>High</th>\n",
       "      <th>Low</th>\n",
       "      <th>Close</th>\n",
       "      <th>Adj Close</th>\n",
       "      <th>Volume</th>\n",
       "      <th>Percent change</th>\n",
       "    </tr>\n",
       "    <tr>\n",
       "      <th>Date</th>\n",
       "      <th></th>\n",
       "      <th></th>\n",
       "      <th></th>\n",
       "      <th></th>\n",
       "      <th></th>\n",
       "      <th></th>\n",
       "      <th></th>\n",
       "    </tr>\n",
       "  </thead>\n",
       "  <tbody>\n",
       "    <tr>\n",
       "      <th>2021-11-02</th>\n",
       "      <td>60963.253906</td>\n",
       "      <td>64242.792969</td>\n",
       "      <td>60673.054688</td>\n",
       "      <td>63226.402344</td>\n",
       "      <td>63226.402344</td>\n",
       "      <td>3.774667e+10</td>\n",
       "      <td>0.036424</td>\n",
       "    </tr>\n",
       "    <tr>\n",
       "      <th>2021-11-03</th>\n",
       "      <td>63254.335938</td>\n",
       "      <td>63516.937500</td>\n",
       "      <td>61184.238281</td>\n",
       "      <td>62970.046875</td>\n",
       "      <td>62970.046875</td>\n",
       "      <td>3.612473e+10</td>\n",
       "      <td>-0.004055</td>\n",
       "    </tr>\n",
       "    <tr>\n",
       "      <th>2021-11-04</th>\n",
       "      <td>62941.804688</td>\n",
       "      <td>63123.289063</td>\n",
       "      <td>60799.664063</td>\n",
       "      <td>61452.230469</td>\n",
       "      <td>61452.230469</td>\n",
       "      <td>3.261585e+10</td>\n",
       "      <td>-0.024104</td>\n",
       "    </tr>\n",
       "    <tr>\n",
       "      <th>2021-11-05</th>\n",
       "      <td>61460.078125</td>\n",
       "      <td>62541.468750</td>\n",
       "      <td>60844.609375</td>\n",
       "      <td>61125.675781</td>\n",
       "      <td>61125.675781</td>\n",
       "      <td>3.060510e+10</td>\n",
       "      <td>-0.005314</td>\n",
       "    </tr>\n",
       "    <tr>\n",
       "      <th>2021-11-06</th>\n",
       "      <td>61068.875000</td>\n",
       "      <td>61590.683594</td>\n",
       "      <td>60163.781250</td>\n",
       "      <td>61527.480469</td>\n",
       "      <td>61527.480469</td>\n",
       "      <td>2.909493e+10</td>\n",
       "      <td>0.006573</td>\n",
       "    </tr>\n",
       "    <tr>\n",
       "      <th>2021-11-07</th>\n",
       "      <td>61554.921875</td>\n",
       "      <td>63326.988281</td>\n",
       "      <td>61432.488281</td>\n",
       "      <td>63326.988281</td>\n",
       "      <td>63326.988281</td>\n",
       "      <td>2.472675e+10</td>\n",
       "      <td>0.029247</td>\n",
       "    </tr>\n",
       "    <tr>\n",
       "      <th>2021-11-08</th>\n",
       "      <td>63344.066406</td>\n",
       "      <td>67673.742188</td>\n",
       "      <td>63344.066406</td>\n",
       "      <td>67566.828125</td>\n",
       "      <td>67566.828125</td>\n",
       "      <td>4.112561e+10</td>\n",
       "      <td>0.066952</td>\n",
       "    </tr>\n",
       "    <tr>\n",
       "      <th>2021-11-09</th>\n",
       "      <td>67549.734375</td>\n",
       "      <td>68530.335938</td>\n",
       "      <td>66382.062500</td>\n",
       "      <td>66971.828125</td>\n",
       "      <td>66971.828125</td>\n",
       "      <td>4.235799e+10</td>\n",
       "      <td>-0.008806</td>\n",
       "    </tr>\n",
       "    <tr>\n",
       "      <th>2021-11-10</th>\n",
       "      <td>66953.335938</td>\n",
       "      <td>68789.625000</td>\n",
       "      <td>63208.113281</td>\n",
       "      <td>64995.230469</td>\n",
       "      <td>64995.230469</td>\n",
       "      <td>4.873083e+10</td>\n",
       "      <td>-0.029514</td>\n",
       "    </tr>\n",
       "    <tr>\n",
       "      <th>2021-11-11</th>\n",
       "      <td>64978.890625</td>\n",
       "      <td>65579.015625</td>\n",
       "      <td>64180.488281</td>\n",
       "      <td>64949.960938</td>\n",
       "      <td>64949.960938</td>\n",
       "      <td>3.588063e+10</td>\n",
       "      <td>-0.000697</td>\n",
       "    </tr>\n",
       "    <tr>\n",
       "      <th>2021-11-12</th>\n",
       "      <td>64863.980469</td>\n",
       "      <td>65460.816406</td>\n",
       "      <td>62333.914063</td>\n",
       "      <td>64155.941406</td>\n",
       "      <td>64155.941406</td>\n",
       "      <td>3.608489e+10</td>\n",
       "      <td>-0.012225</td>\n",
       "    </tr>\n",
       "    <tr>\n",
       "      <th>2021-11-13</th>\n",
       "      <td>64158.121094</td>\n",
       "      <td>64915.675781</td>\n",
       "      <td>63303.734375</td>\n",
       "      <td>64469.527344</td>\n",
       "      <td>64469.527344</td>\n",
       "      <td>3.047423e+10</td>\n",
       "      <td>0.004888</td>\n",
       "    </tr>\n",
       "    <tr>\n",
       "      <th>2021-11-14</th>\n",
       "      <td>64455.371094</td>\n",
       "      <td>65495.179688</td>\n",
       "      <td>63647.808594</td>\n",
       "      <td>65466.839844</td>\n",
       "      <td>65466.839844</td>\n",
       "      <td>2.512209e+10</td>\n",
       "      <td>0.015470</td>\n",
       "    </tr>\n",
       "    <tr>\n",
       "      <th>2021-11-15</th>\n",
       "      <td>65521.289063</td>\n",
       "      <td>66281.570313</td>\n",
       "      <td>63548.144531</td>\n",
       "      <td>63557.871094</td>\n",
       "      <td>63557.871094</td>\n",
       "      <td>3.055876e+10</td>\n",
       "      <td>-0.029159</td>\n",
       "    </tr>\n",
       "    <tr>\n",
       "      <th>2021-11-16</th>\n",
       "      <td>63721.195313</td>\n",
       "      <td>63721.195313</td>\n",
       "      <td>59016.335938</td>\n",
       "      <td>60161.246094</td>\n",
       "      <td>60161.246094</td>\n",
       "      <td>4.684434e+10</td>\n",
       "      <td>-0.053441</td>\n",
       "    </tr>\n",
       "    <tr>\n",
       "      <th>2021-11-17</th>\n",
       "      <td>60139.621094</td>\n",
       "      <td>60823.609375</td>\n",
       "      <td>58515.410156</td>\n",
       "      <td>60368.011719</td>\n",
       "      <td>60368.011719</td>\n",
       "      <td>3.917839e+10</td>\n",
       "      <td>0.003437</td>\n",
       "    </tr>\n",
       "    <tr>\n",
       "      <th>2021-11-18</th>\n",
       "      <td>60360.136719</td>\n",
       "      <td>60948.500000</td>\n",
       "      <td>56550.792969</td>\n",
       "      <td>56942.136719</td>\n",
       "      <td>56942.136719</td>\n",
       "      <td>4.138834e+10</td>\n",
       "      <td>-0.056750</td>\n",
       "    </tr>\n",
       "    <tr>\n",
       "      <th>2021-11-19</th>\n",
       "      <td>56896.128906</td>\n",
       "      <td>58351.113281</td>\n",
       "      <td>55705.179688</td>\n",
       "      <td>58119.578125</td>\n",
       "      <td>58119.578125</td>\n",
       "      <td>3.870241e+10</td>\n",
       "      <td>0.020678</td>\n",
       "    </tr>\n",
       "    <tr>\n",
       "      <th>2021-11-20</th>\n",
       "      <td>58115.082031</td>\n",
       "      <td>59859.878906</td>\n",
       "      <td>57469.726563</td>\n",
       "      <td>59697.195313</td>\n",
       "      <td>59697.195313</td>\n",
       "      <td>3.062426e+10</td>\n",
       "      <td>0.027144</td>\n",
       "    </tr>\n",
       "    <tr>\n",
       "      <th>2021-11-21</th>\n",
       "      <td>59689.230469</td>\n",
       "      <td>59897.675781</td>\n",
       "      <td>58641.667969</td>\n",
       "      <td>59558.062500</td>\n",
       "      <td>59558.062500</td>\n",
       "      <td>2.550275e+10</td>\n",
       "      <td>-0.002331</td>\n",
       "    </tr>\n",
       "  </tbody>\n",
       "</table>\n",
       "</div>"
      ],
      "text/plain": [
       "                    Open          High           Low         Close  \\\n",
       "Date                                                                 \n",
       "2021-11-02  60963.253906  64242.792969  60673.054688  63226.402344   \n",
       "2021-11-03  63254.335938  63516.937500  61184.238281  62970.046875   \n",
       "2021-11-04  62941.804688  63123.289063  60799.664063  61452.230469   \n",
       "2021-11-05  61460.078125  62541.468750  60844.609375  61125.675781   \n",
       "2021-11-06  61068.875000  61590.683594  60163.781250  61527.480469   \n",
       "2021-11-07  61554.921875  63326.988281  61432.488281  63326.988281   \n",
       "2021-11-08  63344.066406  67673.742188  63344.066406  67566.828125   \n",
       "2021-11-09  67549.734375  68530.335938  66382.062500  66971.828125   \n",
       "2021-11-10  66953.335938  68789.625000  63208.113281  64995.230469   \n",
       "2021-11-11  64978.890625  65579.015625  64180.488281  64949.960938   \n",
       "2021-11-12  64863.980469  65460.816406  62333.914063  64155.941406   \n",
       "2021-11-13  64158.121094  64915.675781  63303.734375  64469.527344   \n",
       "2021-11-14  64455.371094  65495.179688  63647.808594  65466.839844   \n",
       "2021-11-15  65521.289063  66281.570313  63548.144531  63557.871094   \n",
       "2021-11-16  63721.195313  63721.195313  59016.335938  60161.246094   \n",
       "2021-11-17  60139.621094  60823.609375  58515.410156  60368.011719   \n",
       "2021-11-18  60360.136719  60948.500000  56550.792969  56942.136719   \n",
       "2021-11-19  56896.128906  58351.113281  55705.179688  58119.578125   \n",
       "2021-11-20  58115.082031  59859.878906  57469.726563  59697.195313   \n",
       "2021-11-21  59689.230469  59897.675781  58641.667969  59558.062500   \n",
       "\n",
       "               Adj Close        Volume  Percent change  \n",
       "Date                                                    \n",
       "2021-11-02  63226.402344  3.774667e+10        0.036424  \n",
       "2021-11-03  62970.046875  3.612473e+10       -0.004055  \n",
       "2021-11-04  61452.230469  3.261585e+10       -0.024104  \n",
       "2021-11-05  61125.675781  3.060510e+10       -0.005314  \n",
       "2021-11-06  61527.480469  2.909493e+10        0.006573  \n",
       "2021-11-07  63326.988281  2.472675e+10        0.029247  \n",
       "2021-11-08  67566.828125  4.112561e+10        0.066952  \n",
       "2021-11-09  66971.828125  4.235799e+10       -0.008806  \n",
       "2021-11-10  64995.230469  4.873083e+10       -0.029514  \n",
       "2021-11-11  64949.960938  3.588063e+10       -0.000697  \n",
       "2021-11-12  64155.941406  3.608489e+10       -0.012225  \n",
       "2021-11-13  64469.527344  3.047423e+10        0.004888  \n",
       "2021-11-14  65466.839844  2.512209e+10        0.015470  \n",
       "2021-11-15  63557.871094  3.055876e+10       -0.029159  \n",
       "2021-11-16  60161.246094  4.684434e+10       -0.053441  \n",
       "2021-11-17  60368.011719  3.917839e+10        0.003437  \n",
       "2021-11-18  56942.136719  4.138834e+10       -0.056750  \n",
       "2021-11-19  58119.578125  3.870241e+10        0.020678  \n",
       "2021-11-20  59697.195313  3.062426e+10        0.027144  \n",
       "2021-11-21  59558.062500  2.550275e+10       -0.002331  "
      ]
     },
     "execution_count": 16,
     "metadata": {},
     "output_type": "execute_result"
    }
   ],
   "source": [
    "all_btc.tail(20)"
   ]
  },
  {
   "cell_type": "code",
   "execution_count": 17,
   "metadata": {},
   "outputs": [],
   "source": [
    "from pmdarima.arima.stationarity import ADFTest\n",
    "adf_test = ADFTest(alpha=0.05)"
   ]
  },
  {
   "cell_type": "code",
   "execution_count": 26,
   "metadata": {},
   "outputs": [
    {
     "name": "stdout",
     "output_type": "stream",
     "text": [
      "P-val:  0.01\n",
      "Difference data?  False\n"
     ]
    }
   ],
   "source": [
    "p_val, should_diff = adf_test.should_diff(all_btc['Percent change'][1:2193].fillna(method='pad'))\n",
    "\n",
    "print('P-val: ', p_val)\n",
    "print('Difference data? ', should_diff)"
   ]
  },
  {
   "cell_type": "code",
   "execution_count": 27,
   "metadata": {},
   "outputs": [],
   "source": [
    "train, test, val = (all_btc['Percent change'][1:2100], all_btc['Percent change'][2100:2160],\n",
    "                    all_btc['Percent change'][2160:2193])"
   ]
  },
  {
   "cell_type": "code",
   "execution_count": 30,
   "metadata": {},
   "outputs": [
    {
     "name": "stdout",
     "output_type": "stream",
     "text": [
      "Requirement already satisfied: pmdarima in /Users/Teigen/opt/anaconda3/envs/learn-env/lib/python3.8/site-packages (1.8.4)\n",
      "Requirement already satisfied: scikit-learn>=0.22 in /Users/Teigen/opt/anaconda3/envs/learn-env/lib/python3.8/site-packages (from pmdarima) (0.23.2)\n",
      "Requirement already satisfied: joblib>=0.11 in /Users/Teigen/opt/anaconda3/envs/learn-env/lib/python3.8/site-packages (from pmdarima) (0.17.0)\n",
      "Requirement already satisfied: Cython!=0.29.18,>=0.29 in /Users/Teigen/opt/anaconda3/envs/learn-env/lib/python3.8/site-packages (from pmdarima) (0.29.21)\n",
      "Requirement already satisfied: urllib3 in /Users/Teigen/opt/anaconda3/envs/learn-env/lib/python3.8/site-packages (from pmdarima) (1.25.10)\n",
      "Requirement already satisfied: setuptools!=50.0.0,>=38.6.0 in /Users/Teigen/opt/anaconda3/envs/learn-env/lib/python3.8/site-packages (from pmdarima) (50.3.0.post20201103)\n",
      "Requirement already satisfied: statsmodels!=0.12.0,>=0.11 in /Users/Teigen/opt/anaconda3/envs/learn-env/lib/python3.8/site-packages (from pmdarima) (0.13.1)\n",
      "Requirement already satisfied: numpy>=1.19.3 in /Users/Teigen/opt/anaconda3/envs/learn-env/lib/python3.8/site-packages (from pmdarima) (1.21.4)\n",
      "Requirement already satisfied: pandas>=0.19 in /Users/Teigen/opt/anaconda3/envs/learn-env/lib/python3.8/site-packages (from pmdarima) (1.1.3)\n",
      "Requirement already satisfied: scipy>=1.3.2 in /Users/Teigen/opt/anaconda3/envs/learn-env/lib/python3.8/site-packages (from pmdarima) (1.5.2)\n",
      "Requirement already satisfied: threadpoolctl>=2.0.0 in /Users/Teigen/opt/anaconda3/envs/learn-env/lib/python3.8/site-packages (from scikit-learn>=0.22->pmdarima) (2.1.0)\n",
      "Requirement already satisfied: patsy>=0.5.2 in /Users/Teigen/opt/anaconda3/envs/learn-env/lib/python3.8/site-packages (from statsmodels!=0.12.0,>=0.11->pmdarima) (0.5.2)\n",
      "Requirement already satisfied: python-dateutil>=2.7.3 in /Users/Teigen/opt/anaconda3/envs/learn-env/lib/python3.8/site-packages (from pandas>=0.19->pmdarima) (2.8.1)\n",
      "Requirement already satisfied: pytz>=2017.2 in /Users/Teigen/opt/anaconda3/envs/learn-env/lib/python3.8/site-packages (from pandas>=0.19->pmdarima) (2020.1)\n",
      "Requirement already satisfied: six in /Users/Teigen/opt/anaconda3/envs/learn-env/lib/python3.8/site-packages (from patsy>=0.5.2->statsmodels!=0.12.0,>=0.11->pmdarima) (1.15.0)\n"
     ]
    }
   ],
   "source": [
    "!pip install pmdarima"
   ]
  },
  {
   "cell_type": "code",
   "execution_count": 32,
   "metadata": {},
   "outputs": [
    {
     "name": "stdout",
     "output_type": "stream",
     "text": [
      "Performing stepwise search to minimize aic\n",
      " ARIMA(2,0,2)(0,0,0)[0]             : AIC=-7556.486, Time=0.14 sec\n",
      " ARIMA(0,0,0)(0,0,0)[0]             : AIC=-7560.393, Time=0.06 sec\n",
      " ARIMA(1,0,0)(0,0,0)[0]             : AIC=-7559.679, Time=0.06 sec\n",
      " ARIMA(0,0,1)(0,0,0)[0]             : AIC=-7559.587, Time=0.07 sec\n",
      " ARIMA(1,0,1)(0,0,0)[0]             : AIC=-7558.609, Time=0.08 sec\n",
      " ARIMA(0,0,0)(0,0,0)[0] intercept   : AIC=-7571.843, Time=0.09 sec\n",
      " ARIMA(1,0,0)(0,0,0)[0] intercept   : AIC=-7571.901, Time=0.16 sec\n",
      " ARIMA(2,0,0)(0,0,0)[0] intercept   : AIC=-7571.814, Time=0.08 sec\n",
      " ARIMA(1,0,1)(0,0,0)[0] intercept   : AIC=-7570.914, Time=0.30 sec\n",
      " ARIMA(0,0,1)(0,0,0)[0] intercept   : AIC=-7571.777, Time=0.06 sec\n",
      " ARIMA(2,0,1)(0,0,0)[0] intercept   : AIC=-7569.899, Time=0.09 sec\n",
      "\n",
      "Best model:  ARIMA(1,0,0)(0,0,0)[0] intercept\n",
      "Total fit time: 1.187 seconds\n"
     ]
    }
   ],
   "source": [
    "import pmdarima as pm\n",
    "from pmdarima import model_selection\n",
    "#from pmdarima.utils import decompose\n",
    "#from pmdarima.utils import decomposed_plot\n",
    "\n",
    "arima = pm.auto_arima(train, error_action='ignore', trace=True, supress_warnings=True,\n",
    "                     maxiter=100, seasonal=False)"
   ]
  },
  {
   "cell_type": "code",
   "execution_count": 33,
   "metadata": {},
   "outputs": [
    {
     "data": {
      "text/html": [
       "<table class=\"simpletable\">\n",
       "<caption>SARIMAX Results</caption>\n",
       "<tr>\n",
       "  <th>Dep. Variable:</th>           <td>y</td>        <th>  No. Observations:  </th>   <td>2099</td>   \n",
       "</tr>\n",
       "<tr>\n",
       "  <th>Model:</th>           <td>SARIMAX(1, 0, 0)</td> <th>  Log Likelihood     </th> <td>3788.950</td> \n",
       "</tr>\n",
       "<tr>\n",
       "  <th>Date:</th>            <td>Thu, 02 Dec 2021</td> <th>  AIC                </th> <td>-7571.901</td>\n",
       "</tr>\n",
       "<tr>\n",
       "  <th>Time:</th>                <td>19:36:06</td>     <th>  BIC                </th> <td>-7554.953</td>\n",
       "</tr>\n",
       "<tr>\n",
       "  <th>Sample:</th>                  <td>0</td>        <th>  HQIC               </th> <td>-7565.693</td>\n",
       "</tr>\n",
       "<tr>\n",
       "  <th></th>                      <td> - 2099</td>     <th>                     </th>     <td> </td>    \n",
       "</tr>\n",
       "<tr>\n",
       "  <th>Covariance Type:</th>        <td>opg</td>       <th>                     </th>     <td> </td>    \n",
       "</tr>\n",
       "</table>\n",
       "<table class=\"simpletable\">\n",
       "<tr>\n",
       "      <td></td>         <th>coef</th>     <th>std err</th>      <th>z</th>      <th>P>|z|</th>  <th>[0.025</th>    <th>0.975]</th>  \n",
       "</tr>\n",
       "<tr>\n",
       "  <th>intercept</th> <td>    0.0033</td> <td>    0.001</td> <td>    3.788</td> <td> 0.000</td> <td>    0.002</td> <td>    0.005</td>\n",
       "</tr>\n",
       "<tr>\n",
       "  <th>ar.L1</th>     <td>   -0.0313</td> <td>    0.015</td> <td>   -2.113</td> <td> 0.035</td> <td>   -0.060</td> <td>   -0.002</td>\n",
       "</tr>\n",
       "<tr>\n",
       "  <th>sigma2</th>    <td>    0.0016</td> <td> 2.26e-05</td> <td>   70.038</td> <td> 0.000</td> <td>    0.002</td> <td>    0.002</td>\n",
       "</tr>\n",
       "</table>\n",
       "<table class=\"simpletable\">\n",
       "<tr>\n",
       "  <th>Ljung-Box (L1) (Q):</th>     <td>0.00</td> <th>  Jarque-Bera (JB):  </th> <td>4965.14</td>\n",
       "</tr>\n",
       "<tr>\n",
       "  <th>Prob(Q):</th>                <td>0.97</td> <th>  Prob(JB):          </th>  <td>0.00</td>  \n",
       "</tr>\n",
       "<tr>\n",
       "  <th>Heteroskedasticity (H):</th> <td>1.26</td> <th>  Skew:              </th>  <td>-0.11</td> \n",
       "</tr>\n",
       "<tr>\n",
       "  <th>Prob(H) (two-sided):</th>    <td>0.00</td> <th>  Kurtosis:          </th>  <td>10.53</td> \n",
       "</tr>\n",
       "</table><br/><br/>Warnings:<br/>[1] Covariance matrix calculated using the outer product of gradients (complex-step)."
      ],
      "text/plain": [
       "<class 'statsmodels.iolib.summary.Summary'>\n",
       "\"\"\"\n",
       "                               SARIMAX Results                                \n",
       "==============================================================================\n",
       "Dep. Variable:                      y   No. Observations:                 2099\n",
       "Model:               SARIMAX(1, 0, 0)   Log Likelihood                3788.950\n",
       "Date:                Thu, 02 Dec 2021   AIC                          -7571.901\n",
       "Time:                        19:36:06   BIC                          -7554.953\n",
       "Sample:                             0   HQIC                         -7565.693\n",
       "                               - 2099                                         \n",
       "Covariance Type:                  opg                                         \n",
       "==============================================================================\n",
       "                 coef    std err          z      P>|z|      [0.025      0.975]\n",
       "------------------------------------------------------------------------------\n",
       "intercept      0.0033      0.001      3.788      0.000       0.002       0.005\n",
       "ar.L1         -0.0313      0.015     -2.113      0.035      -0.060      -0.002\n",
       "sigma2         0.0016   2.26e-05     70.038      0.000       0.002       0.002\n",
       "===================================================================================\n",
       "Ljung-Box (L1) (Q):                   0.00   Jarque-Bera (JB):              4965.14\n",
       "Prob(Q):                              0.97   Prob(JB):                         0.00\n",
       "Heteroskedasticity (H):               1.26   Skew:                            -0.11\n",
       "Prob(H) (two-sided):                  0.00   Kurtosis:                        10.53\n",
       "===================================================================================\n",
       "\n",
       "Warnings:\n",
       "[1] Covariance matrix calculated using the outer product of gradients (complex-step).\n",
       "\"\"\""
      ]
     },
     "execution_count": 33,
     "metadata": {},
     "output_type": "execute_result"
    }
   ],
   "source": [
    "arima.summary()"
   ]
  },
  {
   "cell_type": "code",
   "execution_count": 35,
   "metadata": {},
   "outputs": [
    {
     "data": {
      "text/plain": [
       "array([0.00153377, 0.00324331, 0.00318977, 0.00319145, 0.00319139,\n",
       "       0.0031914 , 0.0031914 , 0.0031914 , 0.0031914 , 0.0031914 ])"
      ]
     },
     "execution_count": 35,
     "metadata": {},
     "output_type": "execute_result"
    }
   ],
   "source": [
    "arima.predict(X=train)"
   ]
  },
  {
   "cell_type": "code",
   "execution_count": 36,
   "metadata": {},
   "outputs": [
    {
     "ename": "NameError",
     "evalue": "name 'test_scaled' is not defined",
     "output_type": "error",
     "traceback": [
      "\u001b[0;31m---------------------------------------------------------------------------\u001b[0m",
      "\u001b[0;31mNameError\u001b[0m                                 Traceback (most recent call last)",
      "\u001b[0;32m<ipython-input-36-706123d41efb>\u001b[0m in \u001b[0;36m<module>\u001b[0;34m\u001b[0m\n\u001b[1;32m      1\u001b[0m \u001b[0mpredictions\u001b[0m \u001b[0;34m=\u001b[0m \u001b[0mlist\u001b[0m\u001b[0;34m(\u001b[0m\u001b[0;34m)\u001b[0m\u001b[0;34m\u001b[0m\u001b[0;34m\u001b[0m\u001b[0m\n\u001b[0;32m----> 2\u001b[0;31m \u001b[0;32mfor\u001b[0m \u001b[0mi\u001b[0m \u001b[0;32min\u001b[0m \u001b[0mrange\u001b[0m\u001b[0;34m(\u001b[0m\u001b[0mlen\u001b[0m\u001b[0;34m(\u001b[0m\u001b[0mtest_scaled\u001b[0m\u001b[0;34m)\u001b[0m\u001b[0;34m)\u001b[0m\u001b[0;34m:\u001b[0m\u001b[0;34m\u001b[0m\u001b[0;34m\u001b[0m\u001b[0m\n\u001b[0m\u001b[1;32m      3\u001b[0m     \u001b[0;31m# make one-step forecast\u001b[0m\u001b[0;34m\u001b[0m\u001b[0;34m\u001b[0m\u001b[0;34m\u001b[0m\u001b[0m\n\u001b[1;32m      4\u001b[0m     \u001b[0mX\u001b[0m\u001b[0;34m,\u001b[0m \u001b[0my\u001b[0m \u001b[0;34m=\u001b[0m \u001b[0mtest_scaled\u001b[0m\u001b[0;34m[\u001b[0m\u001b[0mi\u001b[0m\u001b[0;34m,\u001b[0m \u001b[0;36m0\u001b[0m\u001b[0;34m:\u001b[0m\u001b[0;34m-\u001b[0m\u001b[0;36m1\u001b[0m\u001b[0;34m]\u001b[0m\u001b[0;34m,\u001b[0m \u001b[0mtest_scaled\u001b[0m\u001b[0;34m[\u001b[0m\u001b[0mi\u001b[0m\u001b[0;34m,\u001b[0m \u001b[0;34m-\u001b[0m\u001b[0;36m1\u001b[0m\u001b[0;34m]\u001b[0m\u001b[0;34m\u001b[0m\u001b[0;34m\u001b[0m\u001b[0m\n\u001b[1;32m      5\u001b[0m     \u001b[0myhat\u001b[0m \u001b[0;34m=\u001b[0m \u001b[0mforecast_lstm\u001b[0m\u001b[0;34m(\u001b[0m\u001b[0mlstm_model\u001b[0m\u001b[0;34m,\u001b[0m \u001b[0;36m1\u001b[0m\u001b[0;34m,\u001b[0m \u001b[0mX\u001b[0m\u001b[0;34m)\u001b[0m\u001b[0;34m\u001b[0m\u001b[0;34m\u001b[0m\u001b[0m\n",
      "\u001b[0;31mNameError\u001b[0m: name 'test_scaled' is not defined"
     ]
    }
   ],
   "source": [
    "predictions = list()\n",
    "for i in range(len(test_scaled)):\n",
    "    X, y = test_scaled[i, 0:-1], test_scaled[i, -1]\n",
    "    yhat = forecast_lstm(lstm_model, 1, X)\n",
    "    yhat = invert_scale(scaler, X, yhat)\n",
    "    yhat = inverse_difference(raw_values, yhat, len(test_scaled)+1-i)\n",
    "    predictions.append(yhat)\n",
    "    expected = raw_values[len(train) + i + 1]\n",
    "    print('Month=%d, Predicted=%f, Expected=%f' % (i+1, yhat, expected))"
   ]
  },
  {
   "cell_type": "code",
   "execution_count": 37,
   "metadata": {},
   "outputs": [
    {
     "name": "stdout",
     "output_type": "stream",
     "text": [
      "Performing stepwise search to minimize aic\n",
      " ARIMA(2,0,2)(0,0,0)[0] intercept   : AIC=inf, Time=0.38 sec\n",
      " ARIMA(0,0,0)(0,0,0)[0] intercept   : AIC=-7571.843, Time=0.09 sec\n",
      " ARIMA(1,0,0)(0,0,0)[0] intercept   : AIC=-7571.901, Time=0.16 sec\n",
      " ARIMA(0,0,1)(0,0,0)[0] intercept   : AIC=-7571.777, Time=0.07 sec\n",
      " ARIMA(0,0,0)(0,0,0)[0]             : AIC=-7560.393, Time=0.05 sec\n",
      " ARIMA(2,0,0)(0,0,0)[0] intercept   : AIC=-7571.814, Time=0.07 sec\n",
      " ARIMA(1,0,1)(0,0,0)[0] intercept   : AIC=-7570.914, Time=0.29 sec\n",
      " ARIMA(2,0,1)(0,0,0)[0] intercept   : AIC=-7569.899, Time=0.09 sec\n",
      " ARIMA(1,0,0)(0,0,0)[0]             : AIC=-7559.679, Time=0.05 sec\n",
      "\n",
      "Best model:  ARIMA(1,0,0)(0,0,0)[0] intercept\n",
      "Total fit time: 1.275 seconds\n"
     ]
    }
   ],
   "source": [
    "arima = pm.auto_arima(train, error_action='ignore', trace=True, supress_warnings=True,\n",
    "                     maxiter=100, seasonal=True)"
   ]
  },
  {
   "cell_type": "code",
   "execution_count": null,
   "metadata": {},
   "outputs": [],
   "source": []
  }
 ],
 "metadata": {
  "kernelspec": {
   "display_name": "Python 3 (ipykernel)",
   "language": "python",
   "name": "python3"
  },
  "language_info": {
   "codemirror_mode": {
    "name": "ipython",
    "version": 3
   },
   "file_extension": ".py",
   "mimetype": "text/x-python",
   "name": "python",
   "nbconvert_exporter": "python",
   "pygments_lexer": "ipython3",
   "version": "3.9.7"
  }
 },
 "nbformat": 4,
 "nbformat_minor": 4
}
